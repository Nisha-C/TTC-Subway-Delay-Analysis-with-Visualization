{
 "cells": [
  {
   "cell_type": "code",
   "execution_count": 1,
   "metadata": {
    "colab": {},
    "colab_type": "code",
    "id": "fzTfZ7gM9tNb"
   },
   "outputs": [],
   "source": [
    "import pandas as pd\n",
    "import numpy as np\n",
    "import matplotlib.pyplot as plt\n",
    "import seaborn as sns\n",
    "%matplotlib inline"
   ]
  },
  {
   "cell_type": "markdown",
   "metadata": {
    "colab_type": "text",
    "id": "227HyqRr9tNf"
   },
   "source": [
    "### Import libraries"
   ]
  },
  {
   "cell_type": "code",
   "execution_count": 2,
   "metadata": {
    "colab": {},
    "colab_type": "code",
    "id": "qFOyxmLQ9tNg"
   },
   "outputs": [],
   "source": [
    "from urllib.request import urlretrieve"
   ]
  },
  {
   "cell_type": "markdown",
   "metadata": {
    "colab_type": "text",
    "id": "e56b5ZPv9tNl"
   },
   "source": [
    "### Read Files"
   ]
  },
  {
   "cell_type": "code",
   "execution_count": 3,
   "metadata": {
    "colab": {},
    "colab_type": "code",
    "id": "7ZpoPTBN9tNm"
   },
   "outputs": [],
   "source": [
    "def get_file(url,file_name):\n",
    "    \n",
    "    return urlretrieve(url,file_name)\n"
   ]
  },
  {
   "cell_type": "code",
   "execution_count": 4,
   "metadata": {
    "colab": {},
    "colab_type": "code",
    "id": "_bRJ5i5g9tNo"
   },
   "outputs": [],
   "source": [
    "subway_urls = ['https://ckan0.cf.opendata.inter.prod-toronto.ca/download_resource/6664420f-316f-4f94-9ba4-d4b4677aeea9',\n",
    "               'https://ckan0.cf.opendata.inter.prod-toronto.ca/download_resource/d1159888-0035-45a0-b238-86b546555ac0',\n",
    "               'https://ckan0.cf.opendata.inter.prod-toronto.ca/download_resource/240d8e8c-d300-4f91-b94f-cbb3d136d25e',\n",
    "               'https://ckan0.cf.opendata.inter.prod-toronto.ca/download_resource/98d4ac77-aa9f-40a3-97ee-6fc9070da252',\n",
    "               'https://ckan0.cf.opendata.inter.prod-toronto.ca/download_resource/92e7649a-cf2f-4ac7-9802-b7f92f00b384',\n",
    "               'https://ckan0.cf.opendata.inter.prod-toronto.ca/download_resource/61412f10-656b-4992-9a1a-a156dcf2f6c7',\n",
    "               'https://ckan0.cf.opendata.inter.prod-toronto.ca/download_resource/69a6db37-7982-49c7-8dbc-56919a92afca',\n",
    "               'https://ckan0.cf.opendata.inter.prod-toronto.ca/download_resource/10080217-8022-41c0-a8ba-2a455b8d9d6e',\n",
    "               'https://ckan0.cf.opendata.inter.prod-toronto.ca/download_resource/a731c4bb-630a-4530-b590-b325f9b4ef9b',\n",
    "               'https://ckan0.cf.opendata.inter.prod-toronto.ca/download_resource/5dd04139-6dd0-46c4-99a8-45e7b7607e5c',\n",
    "               'https://ckan0.cf.opendata.inter.prod-toronto.ca/download_resource/84d2cc1f-296d-4593-a6eb-504a7a5c769a',\n",
    "               'https://ckan0.cf.opendata.inter.prod-toronto.ca/download_resource/83e7a4e7-fa62-4932-afc2-8c8ca2235835',\n",
    "               'https://ckan0.cf.opendata.inter.prod-toronto.ca/download_resource/d9bf907b-413c-4028-b9bc-0b72a66bf11e',\n",
    "               'https://ckan0.cf.opendata.inter.prod-toronto.ca/download_resource/6767e18c-cbb3-461a-b4ae-ba202c9b73e4',\n",
    "               'https://ckan0.cf.opendata.inter.prod-toronto.ca/download_resource/e91ccb8b-9b0a-4479-adcd-447bfb298ab5',\n",
    "               'https://ckan0.cf.opendata.inter.prod-toronto.ca/download_resource/718061ee-8351-4cbb-818a-691f03e92041',\n",
    "               'https://ckan0.cf.opendata.inter.prod-toronto.ca/download_resource/b96a8119-9241-4392-92c7-f2fb6f4eff5f',\n",
    "               'https://ckan0.cf.opendata.inter.prod-toronto.ca/download_resource/5e22688c-e841-4249-8a18-243dc70307c1',\n",
    "               'https://ckan0.cf.opendata.inter.prod-toronto.ca/download_resource/9d4cae40-1a5e-4dea-b3c2-95818ae0b521',\n",
    "               'https://ckan0.cf.opendata.inter.prod-toronto.ca/download_resource/5e3067a3-ff0a-4ecf-a25b-5cf59e7adc25',\n",
    "               'https://ckan0.cf.opendata.inter.prod-toronto.ca/download_resource/b4e5c8d0-36b3-4e24-8f24-30bf59fded2d',\n",
    "               'https://ckan0.cf.opendata.inter.prod-toronto.ca/download_resource/9a824dba-20cc-40b1-8f26-778a34a0f3a8',\n",
    "               'https://ckan0.cf.opendata.inter.prod-toronto.ca/download_resource/e6bac74e-2da2-4429-a76f-202eba3d9193',\n",
    "               'https://ckan0.cf.opendata.inter.prod-toronto.ca/download_resource/0511879f-3233-4a42-8c28-93b432132c8b',\n",
    "               'https://ckan0.cf.opendata.inter.prod-toronto.ca/download_resource/447b4a5a-f696-4f05-86c0-9602f56922e5',\n",
    "               'https://ckan0.cf.opendata.inter.prod-toronto.ca/download_resource/a302fcab-81a1-4142-b0ec-031b0666c1df',\n",
    "               'https://ckan0.cf.opendata.inter.prod-toronto.ca/download_resource/655a138c-d381-4fe7-b3b3-a6620825161f',\n",
    "               'https://ckan0.cf.opendata.inter.prod-toronto.ca/download_resource/34d9619f-0239-4dad-a598-b6bc71ce1071',\n",
    "               'https://ckan0.cf.opendata.inter.prod-toronto.ca/download_resource/b6557580-a0f4-4c96-9ce2-82657b62e88a',\n",
    "               'https://ckan0.cf.opendata.inter.prod-toronto.ca/download_resource/e2a5e386-ddf7-4416-8e84-c3508c4f9a4f',\n",
    "               'https://ckan0.cf.opendata.inter.prod-toronto.ca/download_resource/fd837bd2-85ed-485e-ba02-46e29af52024']"
   ]
  },
  {
   "cell_type": "code",
   "execution_count": 5,
   "metadata": {
    "colab": {},
    "colab_type": "code",
    "id": "ARF8zL3R9tNq"
   },
   "outputs": [],
   "source": [
    "file_names=['sub_01_18','sub_02_18','sub_03_18','sub_04_18','sub_05_18','sub_06_18','sub_07_18',\n",
    "           'sub_08_18','sub_09_18','sub_10_18','sub_11_18','sub_12_18','sub_01_19','sub_02_19',\n",
    "            'sub_03_19','sub_04_19','sub_05_19']\n"
   ]
  },
  {
   "cell_type": "code",
   "execution_count": 6,
   "metadata": {
    "colab": {},
    "colab_type": "code",
    "id": "BiQ2-Dbo9tNt"
   },
   "outputs": [],
   "source": [
    "\n",
    "all_sub_df = []\n",
    "for url, file in zip(subway_urls, file_names):\n",
    "    data = pd.read_excel(get_file(url,file)[0],ignore_index=True)\n",
    "    # store DataFrame in list\n",
    "    all_sub_df.append(data)   "
   ]
  },
  {
   "cell_type": "code",
   "execution_count": 7,
   "metadata": {},
   "outputs": [],
   "source": [
    "all_sub_df = pd.concat(all_sub_df)"
   ]
  },
  {
   "cell_type": "code",
   "execution_count": 8,
   "metadata": {
    "colab": {},
    "colab_type": "code",
    "id": "KOee75Nr9tNv"
   },
   "outputs": [
    {
     "data": {
      "text/html": [
       "<div>\n",
       "<style scoped>\n",
       "    .dataframe tbody tr th:only-of-type {\n",
       "        vertical-align: middle;\n",
       "    }\n",
       "\n",
       "    .dataframe tbody tr th {\n",
       "        vertical-align: top;\n",
       "    }\n",
       "\n",
       "    .dataframe thead th {\n",
       "        text-align: right;\n",
       "    }\n",
       "</style>\n",
       "<table border=\"1\" class=\"dataframe\">\n",
       "  <thead>\n",
       "    <tr style=\"text-align: right;\">\n",
       "      <th></th>\n",
       "      <th>Date</th>\n",
       "      <th>Time</th>\n",
       "      <th>Day</th>\n",
       "      <th>Station</th>\n",
       "      <th>Code</th>\n",
       "      <th>Min Delay</th>\n",
       "      <th>Min Gap</th>\n",
       "      <th>Bound</th>\n",
       "      <th>Line</th>\n",
       "      <th>Vehicle</th>\n",
       "    </tr>\n",
       "  </thead>\n",
       "  <tbody>\n",
       "    <tr>\n",
       "      <th>0</th>\n",
       "      <td>2014-01-01</td>\n",
       "      <td>00:21</td>\n",
       "      <td>Wednesday</td>\n",
       "      <td>VICTORIA PARK STATION</td>\n",
       "      <td>MUPR1</td>\n",
       "      <td>55</td>\n",
       "      <td>60</td>\n",
       "      <td>W</td>\n",
       "      <td>BD</td>\n",
       "      <td>5111</td>\n",
       "    </tr>\n",
       "    <tr>\n",
       "      <th>1</th>\n",
       "      <td>2014-01-01</td>\n",
       "      <td>02:06</td>\n",
       "      <td>Wednesday</td>\n",
       "      <td>HIGH PARK STATION</td>\n",
       "      <td>SUDP</td>\n",
       "      <td>3</td>\n",
       "      <td>7</td>\n",
       "      <td>W</td>\n",
       "      <td>BD</td>\n",
       "      <td>5001</td>\n",
       "    </tr>\n",
       "    <tr>\n",
       "      <th>2</th>\n",
       "      <td>2014-01-01</td>\n",
       "      <td>02:40</td>\n",
       "      <td>Wednesday</td>\n",
       "      <td>SHEPPARD STATION</td>\n",
       "      <td>MUNCA</td>\n",
       "      <td>0</td>\n",
       "      <td>0</td>\n",
       "      <td>NaN</td>\n",
       "      <td>YU</td>\n",
       "      <td>0</td>\n",
       "    </tr>\n",
       "    <tr>\n",
       "      <th>3</th>\n",
       "      <td>2014-01-01</td>\n",
       "      <td>03:10</td>\n",
       "      <td>Wednesday</td>\n",
       "      <td>LANSDOWNE STATION</td>\n",
       "      <td>SUDP</td>\n",
       "      <td>3</td>\n",
       "      <td>8</td>\n",
       "      <td>W</td>\n",
       "      <td>BD</td>\n",
       "      <td>5116</td>\n",
       "    </tr>\n",
       "    <tr>\n",
       "      <th>4</th>\n",
       "      <td>2014-01-01</td>\n",
       "      <td>03:20</td>\n",
       "      <td>Wednesday</td>\n",
       "      <td>BLOOR STATION</td>\n",
       "      <td>MUSAN</td>\n",
       "      <td>5</td>\n",
       "      <td>10</td>\n",
       "      <td>S</td>\n",
       "      <td>YU</td>\n",
       "      <td>5386</td>\n",
       "    </tr>\n",
       "  </tbody>\n",
       "</table>\n",
       "</div>"
      ],
      "text/plain": [
       "        Date   Time        Day                Station   Code  Min Delay  \\\n",
       "0 2014-01-01  00:21  Wednesday  VICTORIA PARK STATION  MUPR1         55   \n",
       "1 2014-01-01  02:06  Wednesday      HIGH PARK STATION   SUDP          3   \n",
       "2 2014-01-01  02:40  Wednesday       SHEPPARD STATION  MUNCA          0   \n",
       "3 2014-01-01  03:10  Wednesday      LANSDOWNE STATION   SUDP          3   \n",
       "4 2014-01-01  03:20  Wednesday          BLOOR STATION  MUSAN          5   \n",
       "\n",
       "   Min Gap Bound Line  Vehicle  \n",
       "0       60     W   BD     5111  \n",
       "1        7     W   BD     5001  \n",
       "2        0   NaN   YU        0  \n",
       "3        8     W   BD     5116  \n",
       "4       10     S   YU     5386  "
      ]
     },
     "execution_count": 8,
     "metadata": {},
     "output_type": "execute_result"
    }
   ],
   "source": [
    "all_sub_df.head()"
   ]
  },
  {
   "cell_type": "code",
   "execution_count": null,
   "metadata": {
    "colab": {},
    "colab_type": "code",
    "id": "AkfeLWCk9tNx"
   },
   "outputs": [],
   "source": []
  },
  {
   "cell_type": "markdown",
   "metadata": {
    "colab_type": "text",
    "id": "0zFvco829tN3"
   },
   "source": [
    "### Data Cleansing"
   ]
  },
  {
   "cell_type": "code",
   "execution_count": 9,
   "metadata": {
    "colab": {},
    "colab_type": "code",
    "id": "yfzm_LRw9tOl"
   },
   "outputs": [],
   "source": [
    "sub_delay_code = 'https://ckan0.cf.opendata.inter.prod-toronto.ca/download_resource/fece136b-224a-412a-b191-8d31eb00491e'\n",
    "delay_code_df1 = pd.read_excel(get_file(sub_delay_code,'delay_code')[0], ignore_index=True,skiprows=1)\n",
    "delay_code_df1=delay_code_df1[['SUB RMENU CODE','CODE DESCRIPTION']]"
   ]
  },
  {
   "cell_type": "code",
   "execution_count": 10,
   "metadata": {
    "colab": {},
    "colab_type": "code",
    "id": "1fW39B7V9tOn",
    "outputId": "a3fd2f4f-b90d-4cc1-e6c4-b6ef93b54e7c"
   },
   "outputs": [
    {
     "data": {
      "text/html": [
       "<div>\n",
       "<style scoped>\n",
       "    .dataframe tbody tr th:only-of-type {\n",
       "        vertical-align: middle;\n",
       "    }\n",
       "\n",
       "    .dataframe tbody tr th {\n",
       "        vertical-align: top;\n",
       "    }\n",
       "\n",
       "    .dataframe thead th {\n",
       "        text-align: right;\n",
       "    }\n",
       "</style>\n",
       "<table border=\"1\" class=\"dataframe\">\n",
       "  <thead>\n",
       "    <tr style=\"text-align: right;\">\n",
       "      <th></th>\n",
       "      <th>SUB RMENU CODE</th>\n",
       "      <th>CODE DESCRIPTION</th>\n",
       "    </tr>\n",
       "  </thead>\n",
       "  <tbody>\n",
       "    <tr>\n",
       "      <th>0</th>\n",
       "      <td>EUAC</td>\n",
       "      <td>Air Conditioning</td>\n",
       "    </tr>\n",
       "    <tr>\n",
       "      <th>1</th>\n",
       "      <td>EUAL</td>\n",
       "      <td>Alternating Current</td>\n",
       "    </tr>\n",
       "    <tr>\n",
       "      <th>2</th>\n",
       "      <td>EUATC</td>\n",
       "      <td>ATC RC&amp;S Equipment</td>\n",
       "    </tr>\n",
       "    <tr>\n",
       "      <th>3</th>\n",
       "      <td>EUBK</td>\n",
       "      <td>Brakes</td>\n",
       "    </tr>\n",
       "    <tr>\n",
       "      <th>4</th>\n",
       "      <td>EUBO</td>\n",
       "      <td>Body</td>\n",
       "    </tr>\n",
       "  </tbody>\n",
       "</table>\n",
       "</div>"
      ],
      "text/plain": [
       "  SUB RMENU CODE     CODE DESCRIPTION\n",
       "0           EUAC     Air Conditioning\n",
       "1           EUAL  Alternating Current\n",
       "2          EUATC   ATC RC&S Equipment\n",
       "3           EUBK               Brakes\n",
       "4           EUBO                 Body"
      ]
     },
     "execution_count": 10,
     "metadata": {},
     "output_type": "execute_result"
    }
   ],
   "source": [
    "delay_code_df1.head()"
   ]
  },
  {
   "cell_type": "code",
   "execution_count": 11,
   "metadata": {
    "colab": {},
    "colab_type": "code",
    "id": "jicPx8LR9tOp"
   },
   "outputs": [],
   "source": [
    "# Put codes and description in a dictionary \n",
    "#and replace the codes in the incident column with it's corresponding description.\n",
    "\n",
    "d = dict(zip(delay_code_df1['SUB RMENU CODE'], delay_code_df1['CODE DESCRIPTION']))\n",
    "\n",
    "all_sub_df['Incident'] = [d.get(x,'Unknown') for x in all_sub_df['Code']]\n"
   ]
  },
  {
   "cell_type": "code",
   "execution_count": 12,
   "metadata": {},
   "outputs": [
    {
     "data": {
      "text/plain": [
       "array(['BD', 'YU', 'SHP', 'SRT', nan, 'BD LINE', 'BD/YUS',\n",
       "       'BLOOR DANFORTH', '31 GREENWOOD', '60', '9 BELLAMY', '45 KIPLING',\n",
       "       '504', '95 YORK MILLS', '500', 'SHEPPARD', '104 FAYWOOD', 'YU/BD',\n",
       "       '60 STEELES WEST', '25 DON MILLS', '555', '36 FINCH WEST',\n",
       "       '126 CHRISTIE', '37 ISLINGTON', '504 KING', '29 DUFFERIN',\n",
       "       '116 MORNINGSIDE', 'BD/YU', '73 ROYAL YORK', 'BLOOR DANFORTH LINE',\n",
       "       'YU/SHEP', '66', '341 KEELE', '510 SPADINA', '11 BAYVIEW',\n",
       "       '63 OSSINGTON', '32 EGLINTON WEST', '129 MCCOWAN NORTH', 'YU / BD',\n",
       "       'YU BD', 'B/D', 'YU/ BD', 'YU - BD', 'YU - BD LINE',\n",
       "       '85 SHEPPARD EAST', 'YU LINE', 'YU-BD', 'BLOOR DANFORTH LINES',\n",
       "       '999', '16 MCCOWAN', 'YUS', 'YONGE UNIVERSITY SERVI'], dtype=object)"
      ]
     },
     "execution_count": 12,
     "metadata": {},
     "output_type": "execute_result"
    }
   ],
   "source": [
    "all_sub_df.Line.unique()"
   ]
  },
  {
   "cell_type": "code",
   "execution_count": 13,
   "metadata": {},
   "outputs": [
    {
     "data": {
      "text/plain": [
       "Date             0\n",
       "Time             0\n",
       "Day              0\n",
       "Station          0\n",
       "Code             1\n",
       "Min Delay        0\n",
       "Min Gap          0\n",
       "Bound        20646\n",
       "Line           400\n",
       "Vehicle          0\n",
       "Incident         0\n",
       "dtype: int64"
      ]
     },
     "execution_count": 13,
     "metadata": {},
     "output_type": "execute_result"
    }
   ],
   "source": [
    "all_sub_df.isnull().sum()"
   ]
  },
  {
   "cell_type": "code",
   "execution_count": 14,
   "metadata": {},
   "outputs": [
    {
     "name": "stdout",
     "output_type": "stream",
     "text": [
      "<class 'pandas.core.frame.DataFrame'>\n",
      "Int64Index: 95883 entries, 0 to 1936\n",
      "Data columns (total 11 columns):\n",
      "Date         95883 non-null datetime64[ns]\n",
      "Time         95883 non-null object\n",
      "Day          95883 non-null object\n",
      "Station      95883 non-null object\n",
      "Code         95882 non-null object\n",
      "Min Delay    95883 non-null int64\n",
      "Min Gap      95883 non-null int64\n",
      "Bound        75237 non-null object\n",
      "Line         95483 non-null object\n",
      "Vehicle      95883 non-null int64\n",
      "Incident     95883 non-null object\n",
      "dtypes: datetime64[ns](1), int64(3), object(7)\n",
      "memory usage: 8.8+ MB\n"
     ]
    }
   ],
   "source": [
    "all_sub_df.info()\n"
   ]
  },
  {
   "cell_type": "code",
   "execution_count": 15,
   "metadata": {},
   "outputs": [],
   "source": [
    "all_sub_df.dropna(inplace=True)"
   ]
  },
  {
   "cell_type": "code",
   "execution_count": 16,
   "metadata": {},
   "outputs": [],
   "source": [
    "# list of stations in each line."
   ]
  },
  {
   "cell_type": "code",
   "execution_count": 17,
   "metadata": {},
   "outputs": [],
   "source": [
    "line_1 = ['Vaughan Metropolitan''Highway 407','Pioneer Village','York University','Finch West'\n",
    "'Downsview Park','Sheppard West','Wilson','Yorkdale','Lawrence West','Glencairn','Eglinton West',\n",
    "'St Clair West','Dupont','Spadina','St George','Museum','Queen\\'s Park','St Patrick','Osgoode',\n",
    "'St Andrew','Union','King','Queen','Dundas','College','Wellesley','Bloor-Yonge','Rosedale',\n",
    "'Summerhill','St Clair','Davisville''Eglinton','Lawrence','York Mills',\n",
    "'Sheppard-Yonge','North York Centre','Finch']\n",
    "line_2 = ['Kipling', 'Islington','Royal York','Old Mill','Jane','Runnymede','High Park',\n",
    "'Keele','Dundas West','Lansdowne','Dufferin','Ossington','Christie',\n",
    "'Bathurst','Spadina','St George','Bay','Bloor-Yonge','Sherbourne','Castle Frank',\n",
    "'Broadview','Chester','Pape','Donlands','Greenwood','Coxwell','Woodbine','Main Street',\n",
    " 'Victoria Park','Warden','Kennedy']\n",
    "line_3 = ['Kennedy','Lawrence East','Ellesmere','Midland','Scarborough Centre','McCowan']\n",
    "line_4 = ['Sheppard-Yonge','Bayview','Bessarion','Leslie','Don Mills']\n"
   ]
  },
  {
   "cell_type": "code",
   "execution_count": 18,
   "metadata": {},
   "outputs": [],
   "source": [
    "# The four subway lines are 1,2,3 and 4. \n",
    "# there are entries with other names as well which need to be categoriezed into these four lines.\n",
    "# lists of entries belonging to the same line are created.\n",
    "# The stops near a particular station are included in the line going through that station.\n"
   ]
  },
  {
   "cell_type": "code",
   "execution_count": 19,
   "metadata": {},
   "outputs": [],
   "source": [
    "BD_line = ['BD','BD LINE','BLOOR DANFORTH','45 KIPLING','31 GREENWOOD','126 CHRISTIE','B/D',\n",
    "           '37 ISLINGTON','29 DUFFERIN','73 ROYAL YORK','BLOOR DANFORTH LINE','341 KEELE',\n",
    "          '11 BAYVIEW', '63 OSSINGTON','BLOOR DANFORTH LINES']\n",
    "YU_line = ['YU','95 YORK MILLS','104 FAYWOOD','60 STEELES WEST','36 FINCH WEST','504 KING','116 MORNINGSIDE',\n",
    "          '32 EGLINTON WEST','YU LINE','YUS','YONGE UNIVERSITY SERVI','504',]\n",
    "SRT_line = ['SRT','9 BELLAMY','129 MCCOWAN NORTH','16 MCCOWAN']\n",
    "SHP_line = ['SHP','SHEPPARD','25 DON MILLS','YU/SHEP','85 SHEPPARD EAST']\n",
    "YU_BD = ['YU/BD','YU / BD','YU/ BD','BD/YU','BD/YUS','YU - BD','YU-BD','510 SPADINA','YU - BD LINE','YU BD']\n",
    "\n"
   ]
  },
  {
   "cell_type": "code",
   "execution_count": 20,
   "metadata": {
    "colab": {},
    "colab_type": "code",
    "id": "wA1f0Ei-9tOs",
    "outputId": "7b6862e4-4c42-46f9-9c7b-c9af30cd6980",
    "scrolled": true
   },
   "outputs": [],
   "source": [
    "all_sub_df.Line=all_sub_df['Line'].apply(lambda x: 'BD'  if x in BD_line\n",
    "                                           else ('YU' if(x in YU_line)\n",
    "                                             else ('SRT' if(x in SRT_line)\n",
    "                                             else ('SHP' if (x in SHP_line)\n",
    "                                                   else ('YU_BD' if (x in YU_BD)\n",
    "                                                         else('Unknown' if (x.isdigit())\n",
    "                                                 else x\n",
    "                                                        ))))))\n",
    "             "
   ]
  },
  {
   "cell_type": "markdown",
   "metadata": {
    "colab_type": "text",
    "id": "VHejCNY59tOy"
   },
   "source": [
    "percentage of missing values. "
   ]
  },
  {
   "cell_type": "code",
   "execution_count": 21,
   "metadata": {
    "colab": {},
    "colab_type": "code",
    "id": "yhqjWhT29tO0",
    "outputId": "5eb52eb3-e77c-4ba6-9136-12bdaa56f9e7"
   },
   "outputs": [
    {
     "data": {
      "text/plain": [
       "array(['BD', 'YU', 'SHP', 'SRT', 'Unknown', 'YU_BD'], dtype=object)"
      ]
     },
     "execution_count": 21,
     "metadata": {},
     "output_type": "execute_result"
    }
   ],
   "source": [
    "all_sub_df.Line.unique()"
   ]
  },
  {
   "cell_type": "markdown",
   "metadata": {
    "colab_type": "text",
    "id": "nfD4sHsa9tO2"
   },
   "source": [
    "The missing values in column \"Line\" is relatively easy to fill. The sation where the delay causing incident occured can reveal the line. "
   ]
  },
  {
   "cell_type": "code",
   "execution_count": 22,
   "metadata": {},
   "outputs": [],
   "source": [
    "# to do\n",
    "# avg delay on days of the week\n",
    "# month, season \n",
    "# time of teh day - time slots\n",
    "# resaons top 5\n",
    "# top 5 stations\n",
    "# train number with teh highest number of dealays\n",
    "# cause categorised into passenger caused, mechanical, other\n"
   ]
  },
  {
   "cell_type": "code",
   "execution_count": 23,
   "metadata": {
    "colab": {},
    "colab_type": "code",
    "id": "UvspO7Pq9tPF"
   },
   "outputs": [
    {
     "data": {
      "text/plain": [
       "array(['W', 'S', 'E', 'N', 'B', 'Y', 'R', '5'], dtype=object)"
      ]
     },
     "execution_count": 23,
     "metadata": {},
     "output_type": "execute_result"
    }
   ],
   "source": [
    "all_sub_df.Bound.unique()"
   ]
  },
  {
   "cell_type": "code",
   "execution_count": 24,
   "metadata": {
    "colab": {},
    "colab_type": "code",
    "id": "342rf1g89tPH"
   },
   "outputs": [],
   "source": [
    "# The unfamiliar entries in the Bound column are negligible number \n",
    "#and can be either rtemoived or put in a new actegory called \"unknown\". "
   ]
  },
  {
   "cell_type": "code",
   "execution_count": 25,
   "metadata": {},
   "outputs": [],
   "source": [
    "# on close inspection it was found that the strange entries in the Bound column has no correlation with any of the other columns."
   ]
  },
  {
   "cell_type": "code",
   "execution_count": 26,
   "metadata": {},
   "outputs": [
    {
     "data": {
      "text/plain": [
       "Min Delay    3286\n",
       "Min Gap      5420\n",
       "Vehicle         0\n",
       "dtype: int64"
      ]
     },
     "execution_count": 26,
     "metadata": {},
     "output_type": "execute_result"
    }
   ],
   "source": [
    "all_sub_df[all_sub_df['Vehicle']==0].sum()"
   ]
  },
  {
   "cell_type": "code",
   "execution_count": 27,
   "metadata": {},
   "outputs": [
    {
     "ename": "AttributeError",
     "evalue": "'SeriesGroupBy' object has no attribute 'average'",
     "output_type": "error",
     "traceback": [
      "\u001b[0;31m---------------------------------------------------------------------------\u001b[0m",
      "\u001b[0;31mAttributeError\u001b[0m                            Traceback (most recent call last)",
      "\u001b[0;32m<ipython-input-27-3dd7a43700ed>\u001b[0m in \u001b[0;36m<module>\u001b[0;34m\u001b[0m\n\u001b[0;32m----> 1\u001b[0;31m \u001b[0mall_sub_df\u001b[0m\u001b[0;34m.\u001b[0m\u001b[0mgroupby\u001b[0m\u001b[0;34m(\u001b[0m\u001b[0;34m'Vehicle'\u001b[0m\u001b[0;34m)\u001b[0m\u001b[0;34m[\u001b[0m\u001b[0;34m'Min Delay'\u001b[0m\u001b[0;34m]\u001b[0m\u001b[0;34m.\u001b[0m\u001b[0maverage\u001b[0m\u001b[0;34m(\u001b[0m\u001b[0;34m)\u001b[0m\u001b[0;34m\u001b[0m\u001b[0;34m\u001b[0m\u001b[0m\n\u001b[0m",
      "\u001b[0;32m//anaconda3/lib/python3.7/site-packages/pandas/core/groupby/groupby.py\u001b[0m in \u001b[0;36m__getattr__\u001b[0;34m(self, attr)\u001b[0m\n\u001b[1;32m    534\u001b[0m \u001b[0;34m\u001b[0m\u001b[0m\n\u001b[1;32m    535\u001b[0m         raise AttributeError(\"%r object has no attribute %r\" %\n\u001b[0;32m--> 536\u001b[0;31m                              (type(self).__name__, attr))\n\u001b[0m\u001b[1;32m    537\u001b[0m \u001b[0;34m\u001b[0m\u001b[0m\n\u001b[1;32m    538\u001b[0m     @Substitution(klass='GroupBy',\n",
      "\u001b[0;31mAttributeError\u001b[0m: 'SeriesGroupBy' object has no attribute 'average'"
     ]
    }
   ],
   "source": [
    "all_sub_df.groupby('Vehicle')['Min Delay'].average()"
   ]
  },
  {
   "cell_type": "code",
   "execution_count": null,
   "metadata": {},
   "outputs": [],
   "source": [
    "all_sub_df[all_sub_df['Min Delay']==0]"
   ]
  },
  {
   "cell_type": "markdown",
   "metadata": {
    "colab_type": "text",
    "id": "NQPQ56UG9tPJ"
   },
   "source": [
    "#### Clean Direction data."
   ]
  },
  {
   "cell_type": "markdown",
   "metadata": {
    "colab_type": "text",
    "id": "6NJPnhwg9tPK"
   },
   "source": [
    "Cleaning the values of column Directrion"
   ]
  },
  {
   "cell_type": "markdown",
   "metadata": {
    "colab_type": "text",
    "id": "DMPHS3MD9tPr"
   },
   "source": [
    "### Visualization"
   ]
  },
  {
   "cell_type": "markdown",
   "metadata": {
    "colab_type": "text",
    "id": "uiInUTCV9tPs"
   },
   "source": [
    "* more than 5 minute delay distribution.\n",
    "* comparison of subway bus and streetcar.\n",
    "* location with highest number of delays.\n",
    "* biggest reason for delays.\n",
    "* time of the day with the most delays.\n",
    "* day of the week with the most delays.\n"
   ]
  },
  {
   "cell_type": "code",
   "execution_count": null,
   "metadata": {},
   "outputs": [],
   "source": [
    "all_df.head()"
   ]
  },
  {
   "cell_type": "code",
   "execution_count": null,
   "metadata": {},
   "outputs": [],
   "source": []
  }
 ],
 "metadata": {
  "colab": {
   "name": "TTC_delay.ipynb",
   "provenance": [],
   "version": "0.3.2"
  },
  "kernelspec": {
   "display_name": "Python 3",
   "language": "python",
   "name": "python3"
  },
  "language_info": {
   "codemirror_mode": {
    "name": "ipython",
    "version": 3
   },
   "file_extension": ".py",
   "mimetype": "text/x-python",
   "name": "python",
   "nbconvert_exporter": "python",
   "pygments_lexer": "ipython3",
   "version": "3.7.3"
  }
 },
 "nbformat": 4,
 "nbformat_minor": 1
}
